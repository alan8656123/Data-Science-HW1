{
 "cells": [
  {
   "cell_type": "code",
   "execution_count": 2,
   "metadata": {},
   "outputs": [],
   "source": [
    "#import packages\n",
    "import pandas as pd\n",
    "import numpy as np\n",
    "from pandas import Timestamp\n",
    "\n",
    "\n",
    "#read the file\n",
    "df = pd.read_csv('台灣電力公司_過去電力供需資訊.csv')\n",
    "temp_sub = {'date': [],'peak_load(MW)':[]}\n",
    "sub_df = pd.DataFrame(data=temp_sub)\n",
    "\n",
    "#setting index as date\n",
    "df['日期'] = pd.to_datetime(df.日期,format='%Y%m%d')\n",
    "df.index = df['日期']\n",
    "\n",
    "#creating dataframe with date and the target variable\n",
    "data = df.sort_index(ascending=True, axis=0)\n",
    "new_data = pd.DataFrame(index=range(0,len(df)),columns=['日期', '尖峰負載(MW)'])\n",
    "\n",
    "for i in range(0,len(data)):\n",
    "     new_data['日期'][i] = data['日期'][i]\n",
    "     new_data['尖峰負載(MW)'][i] = data['尖峰負載(MW)'][i]\n",
    "\n",
    "#train\n",
    "train = new_data[:]\n",
    "\n",
    "new_data.shape, train.shape\n",
    "((424, 2), (424, 2))\n",
    "\n",
    "train['日期'].min(), train['日期'].max()\n",
    "\n",
    "(Timestamp('2018-01-24 00:00:00'),\n",
    "Timestamp('2019-02-28 00:00:00'))\n",
    "\n",
    "#make predictions\n",
    "preds = []\n",
    "for i in range(0,7):\n",
    "    a = train['尖峰負載(MW)'][len(train)-7+i:].sum() + sum(preds)\n",
    "    b = a/7\n",
    "    preds.append(b)\n",
    "    sub_df=sub_df.append({'date': '2019040'+str(i+2),'peak_load(MW)':b}, ignore_index=True)\n",
    "\n",
    "\n",
    "\n",
    "#output\n",
    "sub_df.set_index('date' , inplace=True)\n",
    "sub_df.to_csv('submission.csv')\n"
   ]
  },
  {
   "cell_type": "code",
   "execution_count": null,
   "metadata": {},
   "outputs": [],
   "source": []
  }
 ],
 "metadata": {
  "kernelspec": {
   "display_name": "Python 3",
   "language": "python",
   "name": "python3"
  },
  "language_info": {
   "codemirror_mode": {
    "name": "ipython",
    "version": 3
   },
   "file_extension": ".py",
   "mimetype": "text/x-python",
   "name": "python",
   "nbconvert_exporter": "python",
   "pygments_lexer": "ipython3",
   "version": "3.7.2"
  }
 },
 "nbformat": 4,
 "nbformat_minor": 2
}
